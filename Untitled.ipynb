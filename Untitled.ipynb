{
 "cells": [
  {
   "cell_type": "code",
   "execution_count": 2,
   "metadata": {},
   "outputs": [],
   "source": [
    "import json\n",
    "import time\n"
   ]
  },
  {
   "cell_type": "code",
   "execution_count": 3,
   "metadata": {},
   "outputs": [
    {
     "name": "stdout",
     "output_type": "stream",
     "text": [
      "Do you want to import master database and perform operations on it yes/no :yes\n",
      "Loading master database in temp....\n",
      "Loaded master database\n"
     ]
    }
   ],
   "source": [
    "temp={}\n",
    "\n",
    "x=input('Do you want to import master database and perform operations on it yes/no :')\n",
    "if(x=='yes'):\n",
    "        print('Loading master database in temp....')\n",
    "        with open('dataset.json','r') as masteropen:\n",
    "              data_load=json.load(masteropen)\n",
    "        temp=data_load\n",
    "        print('Loaded master database')\n",
    "#         print(temp) "
   ]
  },
  {
   "cell_type": "code",
   "execution_count": null,
   "metadata": {},
   "outputs": [],
   "source": [
    "d=temp\n",
    "def read(k):\n",
    "    if k not in d:\n",
    "        print (\"Error: This key is not present\")\n",
    "    else:\n",
    "        b=d[k]\n",
    "        if b[1]!=0:\n",
    "            if time.time ()<b[1]:\n",
    "                stri=str(k)+\":\"+str(b[0])\n",
    "                return stri\n",
    "            else:\n",
    "                print (\"Error: time-to-live of\",k, \"has expired\")\n",
    "        exit()\n",
    "\n",
    "x=input('Enter for 1 to create,2 to read,3 for delete,4 to show data:')\n",
    "if(x==1):\n",
    "    key=input('Enter key for input')\n",
    "    value=int(input(\"Enter its corresponding value\"))\n",
    "    create(key, value)\n",
    "if(x==2):\n",
    "    key=input('Enter key to read')\n",
    "    print(read(str(key)))\n",
    "if(x==3):\n",
    "    key=Input('Enter Key')\n",
    "    delete(key)\n",
    "    print('key deleted')\n",
    "if(x==4):\n",
    "    print(d)\n",
    "\n"
   ]
  },
  {
   "cell_type": "code",
   "execution_count": null,
   "metadata": {},
   "outputs": [],
   "source": []
  },
  {
   "cell_type": "code",
   "execution_count": null,
   "metadata": {},
   "outputs": [],
   "source": []
  }
 ],
 "metadata": {
  "kernelspec": {
   "display_name": "Python 3",
   "language": "python",
   "name": "python3"
  }
 },
 "nbformat": 4,
 "nbformat_minor": 4
}
